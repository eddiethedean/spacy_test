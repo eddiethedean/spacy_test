{
 "cells": [
  {
   "cell_type": "code",
   "execution_count": 1,
   "id": "4a68a571",
   "metadata": {},
   "outputs": [],
   "source": [
    "from tqdm.notebook import tqdm\n",
    "import fullmetalalchemy as fa\n",
    "import pandas as pd\n",
    "import spacy\n",
    "\n",
    "nlp = spacy.load(\"en_core_web_trf\")\n",
    "engine = fa.create.create_engine('sqlite:///data3.db')"
   ]
  },
  {
   "cell_type": "code",
   "execution_count": 2,
   "id": "d1145a4f",
   "metadata": {},
   "outputs": [],
   "source": [
    "df = pd.read_csv('ner.csv')\n",
    "df = df.reset_index(drop=False)[['text']]\n",
    "df['text_id'] = df['text'].apply(hash).astype(str)\n",
    "df['id'] = df.index\n",
    "df = df[['id', 'text_id', 'text']]\n",
    "\n",
    "text_table = fa.create.create_table_from_records(\n",
    "    table_name='text',\n",
    "    records=df.to_dict('records'),\n",
    "    primary_key=['id'],\n",
    "    engine=engine,\n",
    "    if_exists='replace',\n",
    "    autoincrement=True\n",
    ")"
   ]
  },
  {
   "cell_type": "code",
   "execution_count": 3,
   "id": "957161dd",
   "metadata": {},
   "outputs": [],
   "source": [
    "entities_table = fa.create.create_table(\n",
    "    table_name='entities',\n",
    "    column_names=['id', 'entity', 'label', 'text_id'], \n",
    "    column_types=[int, str, str, str],\n",
    "    primary_key=['id'],\n",
    "    engine=engine,\n",
    "    autoincrement=True,\n",
    "    if_exists='replace',\n",
    ")"
   ]
  },
  {
   "cell_type": "code",
   "execution_count": 4,
   "id": "6a6b24e1",
   "metadata": {},
   "outputs": [
    {
     "data": {
      "text/plain": [
       "47959"
      ]
     },
     "execution_count": 4,
     "metadata": {},
     "output_type": "execute_result"
    }
   ],
   "source": [
    "total = fa.features.get_row_count(text_table)\n",
    "total"
   ]
  },
  {
   "cell_type": "code",
   "execution_count": 5,
   "id": "7d8762d1",
   "metadata": {},
   "outputs": [],
   "source": [
    "def insert_entities(ents, text_id: str, session) -> None:\n",
    "    records = [{'entity': ent.text, 'label': ent.label_, 'text_id': text_id}\n",
    "                  for ent in ents]\n",
    "    fa.insert.insert_records_session(entities_table, records, session)"
   ]
  },
  {
   "cell_type": "code",
   "execution_count": null,
   "id": "73f2bcd4",
   "metadata": {},
   "outputs": [
    {
     "data": {
      "application/vnd.jupyter.widget-view+json": {
       "model_id": "6ff925b560604459b2109328c385c35d",
       "version_major": 2,
       "version_minor": 0
      },
      "text/plain": [
       "  0%|          | 0/47.959 [00:00<?, ?it/s]"
      ]
     },
     "metadata": {},
     "output_type": "display_data"
    }
   ],
   "source": [
    "with fa.create.create_session(engine) as session:\n",
    "    text_chunks = fa.select.select_column_values_chunks(text_table, 'text', 1000, session)\n",
    "    text_id_chunks = fa.select.select_column_values_chunks(text_table, 'id', 1000, session)\n",
    "    \n",
    "    for text_chunk, id_chunk in tqdm(zip(text_chunks, text_id_chunks), total=total/1000):\n",
    "        pipe = nlp.pipe(zip(text_chunk, id_chunk), as_tuples=True, n_process=-1)\n",
    "        for doc, text_id in pipe:\n",
    "            insert_entities(doc.ents, text_id, session)"
   ]
  },
  {
   "cell_type": "code",
   "execution_count": null,
   "id": "9b13b26f",
   "metadata": {},
   "outputs": [],
   "source": []
  }
 ],
 "metadata": {
  "kernelspec": {
   "display_name": "Python 3 (ipykernel)",
   "language": "python",
   "name": "python3"
  },
  "language_info": {
   "codemirror_mode": {
    "name": "ipython",
    "version": 3
   },
   "file_extension": ".py",
   "mimetype": "text/x-python",
   "name": "python",
   "nbconvert_exporter": "python",
   "pygments_lexer": "ipython3",
   "version": "3.11.3"
  }
 },
 "nbformat": 4,
 "nbformat_minor": 5
}
