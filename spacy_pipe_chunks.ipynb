{
 "cells": [
  {
   "cell_type": "code",
   "execution_count": 1,
   "id": "6b81229a",
   "metadata": {},
   "outputs": [],
   "source": [
    "from tqdm.notebook import tqdm"
   ]
  },
  {
   "cell_type": "code",
   "execution_count": 2,
   "id": "e3bb6157",
   "metadata": {},
   "outputs": [],
   "source": [
    "import fullmetalalchemy as fa\n",
    "import pandas as pd"
   ]
  },
  {
   "cell_type": "code",
   "execution_count": 3,
   "id": "8a59d96e",
   "metadata": {},
   "outputs": [],
   "source": [
    "engine = fa.create.create_engine('sqlite:///data2.db')"
   ]
  },
  {
   "cell_type": "code",
   "execution_count": 4,
   "id": "687cfa32",
   "metadata": {},
   "outputs": [],
   "source": [
    "text_table = fa.features.get_table('text', engine)"
   ]
  },
  {
   "cell_type": "code",
   "execution_count": 5,
   "id": "a59b8092",
   "metadata": {},
   "outputs": [],
   "source": [
    "import spacy\n",
    "MODEL = \"en_core_web_trf\"\n",
    "nlp = spacy.load(MODEL)"
   ]
  },
  {
   "cell_type": "code",
   "execution_count": 7,
   "id": "f68b5975",
   "metadata": {},
   "outputs": [],
   "source": [
    "from itertools import chain\n",
    "\n",
    "text_chunks = fa.select.select_column_values_chunks(text_table, 'text', 1000)\n",
    "text_id_chunks = fa.select.select_column_values_chunks(text_table, 'id', 1000)\n",
    "text_values = chain(*text_chunks)\n",
    "text_id_values = chain(*text_id_chunks)"
   ]
  },
  {
   "cell_type": "code",
   "execution_count": 8,
   "id": "72fa7f5d",
   "metadata": {},
   "outputs": [],
   "source": [
    "total = fa.features.get_row_count(text_table)"
   ]
  },
  {
   "cell_type": "code",
   "execution_count": 9,
   "id": "b3fd7afb",
   "metadata": {},
   "outputs": [],
   "source": [
    "pipe = nlp.pipe(zip(text_values, text_id_values), as_tuples=True, n_process=-1)"
   ]
  },
  {
   "cell_type": "code",
   "execution_count": 10,
   "id": "3aa373a1",
   "metadata": {},
   "outputs": [
    {
     "data": {
      "application/vnd.jupyter.widget-view+json": {
       "model_id": "a624392547244d11a5128af3bd177a26",
       "version_major": 2,
       "version_minor": 0
      },
      "text/plain": [
       "  0%|          | 0/47959 [00:00<?, ?it/s]"
      ]
     },
     "metadata": {},
     "output_type": "display_data"
    }
   ],
   "source": [
    "for doc, text_id in tqdm(pipe, total=total):\n",
    "    ...\n",
    "    #ents = doc.ents\n"
   ]
  },
  {
   "cell_type": "code",
   "execution_count": null,
   "id": "b9892cdd",
   "metadata": {},
   "outputs": [],
   "source": []
  }
 ],
 "metadata": {
  "kernelspec": {
   "display_name": "Python 3 (ipykernel)",
   "language": "python",
   "name": "python3"
  },
  "language_info": {
   "codemirror_mode": {
    "name": "ipython",
    "version": 3
   },
   "file_extension": ".py",
   "mimetype": "text/x-python",
   "name": "python",
   "nbconvert_exporter": "python",
   "pygments_lexer": "ipython3",
   "version": "3.11.3"
  }
 },
 "nbformat": 4,
 "nbformat_minor": 5
}
