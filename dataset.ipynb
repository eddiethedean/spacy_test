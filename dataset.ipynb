{
 "cells": [
  {
   "cell_type": "code",
   "execution_count": null,
   "id": "49e20fef",
   "metadata": {},
   "outputs": [],
   "source": [
    "import pandas as pd"
   ]
  },
  {
   "cell_type": "code",
   "execution_count": null,
   "id": "9ddca4c7",
   "metadata": {},
   "outputs": [],
   "source": [
    "df = pd.read_csv('ner.csv')\n",
    "df = df.reset_index(drop=False)[['text']]\n",
    "df"
   ]
  },
  {
   "cell_type": "code",
   "execution_count": null,
   "id": "fafa042d",
   "metadata": {},
   "outputs": [],
   "source": [
    "df['text_id'] = df['text'].apply(hash).astype(str)\n",
    "df['id'] = df.index\n",
    "df = df[['id', 'text_id', 'text']]\n",
    "df"
   ]
  },
  {
   "cell_type": "code",
   "execution_count": null,
   "id": "66dae2fc",
   "metadata": {},
   "outputs": [],
   "source": [
    "import fullmetalalchemy as fa"
   ]
  },
  {
   "cell_type": "code",
   "execution_count": null,
   "id": "81309ebe",
   "metadata": {},
   "outputs": [],
   "source": [
    "engine = fa.create.create_engine('sqlite:///data2.db')"
   ]
  },
  {
   "cell_type": "code",
   "execution_count": null,
   "id": "83f5240e",
   "metadata": {},
   "outputs": [],
   "source": [
    "text_table = fa.create.create_table_from_records(\n",
    "    table_name='text',\n",
    "    records=df.to_dict('records'),\n",
    "    primary_key=['id'],\n",
    "    engine=engine,\n",
    "    if_exists='replace',\n",
    "    autoincrement=True\n",
    ")"
   ]
  },
  {
   "cell_type": "code",
   "execution_count": null,
   "id": "16372bbb",
   "metadata": {},
   "outputs": [],
   "source": []
  },
  {
   "cell_type": "code",
   "execution_count": null,
   "id": "ec1da17d",
   "metadata": {},
   "outputs": [],
   "source": []
  },
  {
   "cell_type": "code",
   "execution_count": null,
   "id": "b9821aeb",
   "metadata": {},
   "outputs": [],
   "source": []
  }
 ],
 "metadata": {
  "kernelspec": {
   "display_name": "Python 3 (ipykernel)",
   "language": "python",
   "name": "python3"
  },
  "language_info": {
   "codemirror_mode": {
    "name": "ipython",
    "version": 3
   },
   "file_extension": ".py",
   "mimetype": "text/x-python",
   "name": "python",
   "nbconvert_exporter": "python",
   "pygments_lexer": "ipython3",
   "version": "3.11.3"
  }
 },
 "nbformat": 4,
 "nbformat_minor": 5
}
