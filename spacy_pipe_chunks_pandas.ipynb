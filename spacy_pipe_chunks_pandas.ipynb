{
 "cells": [
  {
   "cell_type": "code",
   "execution_count": 1,
   "id": "d179f309",
   "metadata": {},
   "outputs": [],
   "source": [
    "from tqdm.notebook import tqdm"
   ]
  },
  {
   "cell_type": "code",
   "execution_count": 2,
   "id": "78d460bc",
   "metadata": {},
   "outputs": [],
   "source": [
    "import fullmetalalchemy as fa\n",
    "import pandas as pd"
   ]
  },
  {
   "cell_type": "code",
   "execution_count": 3,
   "id": "6cc8651b",
   "metadata": {},
   "outputs": [],
   "source": [
    "engine = fa.create.create_engine('sqlite:///data2.db')"
   ]
  },
  {
   "cell_type": "code",
   "execution_count": 4,
   "id": "cbbd9e30",
   "metadata": {},
   "outputs": [],
   "source": [
    "text_table = fa.features.get_table('text', engine)\n",
    "fa.features.get_column_names(text_table)"
   ]
  },
  {
   "cell_type": "code",
   "execution_count": 5,
   "id": "8263726b",
   "metadata": {},
   "outputs": [],
   "source": [
    "import spacy\n",
    "MODEL = \"en_core_web_trf\"\n",
    "nlp = spacy.load(MODEL)"
   ]
  },
  {
   "cell_type": "code",
   "execution_count": 13,
   "id": "591236f9",
   "metadata": {},
   "outputs": [],
   "source": [
    "from itertools import chain\n",
    "\n",
    "df_chunks = pd.read_sql_table('text', engine, chunksize=1000)\n",
    "df_rows = chain(*(chunk.iterrows() for chunk in df_chunks))\n",
    "text_and_ids = ((row['text'], row['id']) for _, row in df_rows)"
   ]
  },
  {
   "cell_type": "code",
   "execution_count": 14,
   "id": "f88c63c4",
   "metadata": {},
   "outputs": [
    {
     "data": {
      "text/plain": [
       "47959"
      ]
     },
     "execution_count": 14,
     "metadata": {},
     "output_type": "execute_result"
    }
   ],
   "source": [
    "total = fa.features.get_row_count(text_table)\n",
    "total"
   ]
  },
  {
   "cell_type": "code",
   "execution_count": 15,
   "id": "f7dab25f",
   "metadata": {},
   "outputs": [],
   "source": [
    "pipe = nlp.pipe(text_and_ids, as_tuples=True, n_process=-1)"
   ]
  },
  {
   "cell_type": "code",
   "execution_count": 17,
   "id": "0c070c5e",
   "metadata": {},
   "outputs": [
    {
     "data": {
      "application/vnd.jupyter.widget-view+json": {
       "model_id": "339bbd1881344ec1a82756a80fcf8c8d",
       "version_major": 2,
       "version_minor": 0
      },
      "text/plain": [
       "  0%|          | 0/47959 [00:00<?, ?it/s]"
      ]
     },
     "metadata": {},
     "output_type": "display_data"
    }
   ],
   "source": [
    "for doc, text_id in tqdm(pipe, total=total):\n",
    "    ents = doc.ents"
   ]
  },
  {
   "cell_type": "code",
   "execution_count": null,
   "id": "735a4f04",
   "metadata": {},
   "outputs": [],
   "source": []
  }
 ],
 "metadata": {
  "kernelspec": {
   "display_name": "Python 3 (ipykernel)",
   "language": "python",
   "name": "python3"
  },
  "language_info": {
   "codemirror_mode": {
    "name": "ipython",
    "version": 3
   },
   "file_extension": ".py",
   "mimetype": "text/x-python",
   "name": "python",
   "nbconvert_exporter": "python",
   "pygments_lexer": "ipython3",
   "version": "3.11.3"
  }
 },
 "nbformat": 4,
 "nbformat_minor": 5
}
