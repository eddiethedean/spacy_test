{
 "cells": [
  {
   "cell_type": "code",
   "execution_count": 1,
   "id": "d179f309",
   "metadata": {},
   "outputs": [],
   "source": [
    "from tqdm.notebook import tqdm"
   ]
  },
  {
   "cell_type": "code",
   "execution_count": 2,
   "id": "78d460bc",
   "metadata": {},
   "outputs": [],
   "source": [
    "import fullmetalalchemy as fa\n",
    "import pandas as pd"
   ]
  },
  {
   "cell_type": "code",
   "execution_count": 3,
   "id": "6cc8651b",
   "metadata": {},
   "outputs": [],
   "source": [
    "engine = fa.create.create_engine('sqlite:///data2.db')"
   ]
  },
  {
   "cell_type": "code",
   "execution_count": 4,
   "id": "cbbd9e30",
   "metadata": {},
   "outputs": [],
   "source": [
    "text_table = fa.features.get_table('text', engine)"
   ]
  },
  {
   "cell_type": "code",
   "execution_count": 5,
   "id": "8263726b",
   "metadata": {},
   "outputs": [],
   "source": [
    "import spacy\n",
    "MODEL = \"en_core_web_trf\"\n",
    "nlp = spacy.load(MODEL)"
   ]
  },
  {
   "cell_type": "code",
   "execution_count": 26,
   "id": "591236f9",
   "metadata": {},
   "outputs": [],
   "source": [
    "from itertools import chain\n",
    "\n",
    "text_chunks = fa.select.select_column_values_chunks(text_table, 'text', 1000)\n",
    "text_id_chunks = fa.select.select_column_values_chunks(text_table, 'id', 1000)\n",
    "text_values = chain(*text_chunks)\n",
    "text_id_values = chain(*text_id_chunks)"
   ]
  },
  {
   "cell_type": "code",
   "execution_count": 27,
   "id": "f88c63c4",
   "metadata": {},
   "outputs": [],
   "source": [
    "total = fa.features.get_row_count(text_table)"
   ]
  },
  {
   "cell_type": "code",
   "execution_count": null,
   "id": "f7dab25f",
   "metadata": {},
   "outputs": [],
   "source": [
    "pipe = nlp.pipe(zip(text_values, text_id_values), as_tuples=True, n_process=-1)"
   ]
  },
  {
   "cell_type": "code",
   "execution_count": null,
   "id": "0c070c5e",
   "metadata": {},
   "outputs": [
    {
     "data": {
      "application/vnd.jupyter.widget-view+json": {
       "model_id": "df466e23c3b24f3bb684f35013bd24e5",
       "version_major": 2,
       "version_minor": 0
      },
      "text/plain": [
       "  0%|          | 0/47959 [00:00<?, ?it/s]"
      ]
     },
     "metadata": {},
     "output_type": "display_data"
    }
   ],
   "source": [
    "for doc, text_id in tqdm(pipe, total=total):\n",
    "    ents = doc.ents"
   ]
  },
  {
   "cell_type": "code",
   "execution_count": null,
   "id": "735a4f04",
   "metadata": {},
   "outputs": [],
   "source": []
  }
 ],
 "metadata": {
  "kernelspec": {
   "display_name": "Python 3 (ipykernel)",
   "language": "python",
   "name": "python3"
  },
  "language_info": {
   "codemirror_mode": {
    "name": "ipython",
    "version": 3
   },
   "file_extension": ".py",
   "mimetype": "text/x-python",
   "name": "python",
   "nbconvert_exporter": "python",
   "pygments_lexer": "ipython3",
   "version": "3.11.3"
  }
 },
 "nbformat": 4,
 "nbformat_minor": 5
}
