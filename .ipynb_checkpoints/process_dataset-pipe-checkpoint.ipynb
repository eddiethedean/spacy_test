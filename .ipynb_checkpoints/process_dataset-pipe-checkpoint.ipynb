{
 "cells": [
  {
   "cell_type": "code",
   "execution_count": 1,
   "id": "6bab7da2",
   "metadata": {},
   "outputs": [],
   "source": [
    "import spacy\n",
    "import fullmetalalchemy as fa\n",
    "import pandas as pd\n",
    "import sqlalchemy as sa"
   ]
  },
  {
   "cell_type": "code",
   "execution_count": null,
   "id": "d4e34949",
   "metadata": {},
   "outputs": [],
   "source": [
    "nlp = spacy.load('en_core_web_sm')"
   ]
  },
  {
   "cell_type": "code",
   "execution_count": 2,
   "id": "d5b3dd02",
   "metadata": {},
   "outputs": [],
   "source": [
    "engine = fa.create.create_engine('sqlite:///data2.db')\n",
    "text_table = fa.features.get_table('text', engine)\n",
    "print(fa.features.get_row_count(text_table))\n",
    "print(fa.features.get_column_names(text_table))\n",
    "entity_table = fa.features.get_table('entities', engine)\n",
    "print(fa.features.get_row_count(entity_table))\n",
    "print(fa.features.get_column_names(entity_table))\n",
    "found_table = fa.features.get_table('found_entities', engine)\n",
    "print(fa.features.get_row_count(found_table))\n",
    "print(fa.features.get_column_names(found_table))"
   ]
  },
  {
   "cell_type": "code",
   "execution_count": null,
   "id": "81f38d18",
   "metadata": {},
   "outputs": [],
   "source": [
    "def insert_label(text_id: int, entity: str, label: str) -> None:\n",
    "    # check if entity is in entity_table\n",
    "    existing_entities = fa.select.select_records_by_primary_keys(entity_table, [{'entity': entity}])\n",
    "    if existing_entities == []:\n",
    "        # if not, insert into entity_table\n",
    "        fa.insert.insert_records(entity_table, [{'entity': entity}])\n",
    "        existing_entities = fa.select.select_records_by_primary_keys(entity_table, [{'entity': entity}])\n",
    "    entity_id = existing_entities[0]['id']\n",
    "    # add entity to found_entity table\n",
    "    record = {'text_id': text_id, 'entity_id': entity_id, 'label': label}\n",
    "    fa.insert.insert_records(found_table, [record, ])"
   ]
  },
  {
   "cell_type": "code",
   "execution_count": null,
   "id": "09f8b689",
   "metadata": {},
   "outputs": [],
   "source": [
    "texts = fa.select.select_column_values_all(text_table, 'text')\n",
    "ids = fa.select.select_column_values_all(text_table, 'id')\n",
    "for text_id, doc in zip(ids, nlp.pipe(texts, n_process=-1)):\n",
    "    for ent in doc.ents:\n",
    "        insert_label(text_id, ent.text, ent.label_)"
   ]
  },
  {
   "cell_type": "code",
   "execution_count": 3,
   "id": "d667771d",
   "metadata": {},
   "outputs": [],
   "source": [
    "pd.read_sql_table('entities', engine)"
   ]
  },
  {
   "cell_type": "code",
   "execution_count": 4,
   "id": "960db0e5",
   "metadata": {},
   "outputs": [],
   "source": [
    "pd.read_sql_table('found_entities', engine)"
   ]
  },
  {
   "cell_type": "code",
   "execution_count": null,
   "id": "b49b5d58",
   "metadata": {},
   "outputs": [],
   "source": []
  }
 ],
 "metadata": {
  "kernelspec": {
   "display_name": "Python 3 (ipykernel)",
   "language": "python",
   "name": "python3"
  },
  "language_info": {
   "codemirror_mode": {
    "name": "ipython",
    "version": 3
   },
   "file_extension": ".py",
   "mimetype": "text/x-python",
   "name": "python",
   "nbconvert_exporter": "python",
   "pygments_lexer": "ipython3",
   "version": "3.11.3"
  }
 },
 "nbformat": 4,
 "nbformat_minor": 5
}
