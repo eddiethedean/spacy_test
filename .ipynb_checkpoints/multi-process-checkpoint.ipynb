{
 "cells": [
  {
   "cell_type": "code",
   "execution_count": 1,
   "id": "fb578464",
   "metadata": {},
   "outputs": [],
   "source": [
    "import spacy\n",
    "\n",
    "nlp = spacy.load(\"en_core_web_trf\")  # use your model here"
   ]
  },
  {
   "cell_type": "code",
   "execution_count": 4,
   "id": "4053169f",
   "metadata": {},
   "outputs": [],
   "source": [
    "docs = [\"\"\"den vision of Elene, radiant in white, holding a bundle in her arms, gaze cast down, smiling fit to burst. She's dandling the babe, and gets caught up in the moment, and begins dancing.\n",
    "Waves of nausea slosh in my guts. Hot, acrid bile sears the back of my throat.\n",
    "As she comes out of a spin, skirts twirling, she catches sight of me and flushes, momentarily embarrassed, then laughs and waves to me to hurry over. The smell of her eucalyptus soap and her gentle breath wafts over me as she tilts the bundle up. 'Look! He's smiling.\n",
    "Your son is smiling for his daddy.'\n",
    "As she lifts the bundle, I see the gaping wound where I stabbed her.\n",
    "Her voice grows indistinct as my mind veers away, runs from those razor-eyed phantoms deeper again into the catacombs of my mind. But their fingers have sunk into my brain as deep as the unique blend of her scents, which I'll never smell again.\n",
    "Don't throw up. Don't throw up.\n",
    "Darkness closes around me. Time passes.\n",
    "Awareness is pain.\n",
    "A voice in the distance. ~Kylar?~\n",
    "I attempt to open my eyes; one's swollen half-shut. The aches from the beating are nothing compared to the sucking chest wound\"\"\", \"this is the second doc\"]\n",
    "\n",
    "docs_ents = []\n",
    "for doc in nlp.pipe(docs, n_process=-1):\n",
    "    docs_ents.extend(doc.ents)"
   ]
  },
  {
   "cell_type": "code",
   "execution_count": 5,
   "id": "9762ad39",
   "metadata": {},
   "outputs": [
    {
     "data": {
      "text/plain": [
       "[Elene, half, second]"
      ]
     },
     "execution_count": 5,
     "metadata": {},
     "output_type": "execute_result"
    }
   ],
   "source": [
    "docs_ents"
   ]
  },
  {
   "cell_type": "code",
   "execution_count": null,
   "id": "cb457286",
   "metadata": {},
   "outputs": [],
   "source": []
  }
 ],
 "metadata": {
  "kernelspec": {
   "display_name": "Python 3 (ipykernel)",
   "language": "python",
   "name": "python3"
  },
  "language_info": {
   "codemirror_mode": {
    "name": "ipython",
    "version": 3
   },
   "file_extension": ".py",
   "mimetype": "text/x-python",
   "name": "python",
   "nbconvert_exporter": "python",
   "pygments_lexer": "ipython3",
   "version": "3.11.3"
  }
 },
 "nbformat": 4,
 "nbformat_minor": 5
}
