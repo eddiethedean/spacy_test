{
 "cells": [
  {
   "cell_type": "code",
   "execution_count": 1,
   "id": "31c9e7e4",
   "metadata": {},
   "outputs": [],
   "source": [
    "import spacy\n",
    "import fullmetalalchemy as fa"
   ]
  },
  {
   "cell_type": "code",
   "execution_count": 2,
   "id": "35068c6d",
   "metadata": {},
   "outputs": [],
   "source": [
    "nlp = spacy.load('en_core_web_sm')"
   ]
  },
  {
   "cell_type": "code",
   "execution_count": 7,
   "id": "9acbfff0",
   "metadata": {},
   "outputs": [
    {
     "name": "stdout",
     "output_type": "stream",
     "text": [
      "47959\n",
      "['id', 'text_id', 'text']\n",
      "0\n",
      "['id', 'entity']\n",
      "0\n",
      "['id', 'text_id', 'entity_id', 'label']\n"
     ]
    }
   ],
   "source": [
    "engine = fa.create.create_engine('sqlite:///data.db')\n",
    "text_table = fa.features.get_table('text', engine)\n",
    "print(fa.features.get_row_count(text_table))\n",
    "print(fa.features.get_column_names(text_table))\n",
    "entity_table = fa.features.get_table('entities', engine)\n",
    "print(fa.features.get_row_count(entity_table))\n",
    "print(fa.features.get_column_names(entity_table))\n",
    "found_table = fa.features.get_table('found_entities', engine)\n",
    "print(fa.features.get_row_count(found_table))\n",
    "print(fa.features.get_column_names(found_table))"
   ]
  },
  {
   "cell_type": "code",
   "execution_count": 15,
   "id": "898627e9",
   "metadata": {},
   "outputs": [],
   "source": [
    "def insert_label(text_id: int, entity: str) -> None:\n",
    "    # check if entity is in entity_table\n",
    "    if fa.select.select_existing_values(entity_table, 'entity', [entity]) == []:\n",
    "        # if not, insert into entity_table\n",
    "        if fa.features.get_row_count(entity_table) == 0:\n",
    "            new_id = 0\n",
    "        else:\n",
    "            new_id = max(fa.select.select_column_values_all(entity_table, 'id')) + 1\n",
    "        fa.insert.insert_records(entity_table, [{'id': new_id, 'entity': entity}])\n",
    "        \n",
    "    # add entity to found_entity table"
   ]
  },
  {
   "cell_type": "code",
   "execution_count": 16,
   "id": "696e707c",
   "metadata": {},
   "outputs": [
    {
     "name": "stdout",
     "output_type": "stream",
     "text": [
      "Thousands CARDINAL\n",
      "[]\n",
      "London GPE\n",
      "[]\n",
      "Iraq GPE\n",
      "[]\n",
      "British NORP\n",
      "[]\n"
     ]
    }
   ],
   "source": [
    "for row in fa.select.select_records_all(text_table):\n",
    "    text_id = row['id']\n",
    "    doc = nlp(row['text'])\n",
    "    for ent in doc.ents:\n",
    "        print(ent.text, ent.label_)\n",
    "        insert_label(text_id, ent.label_)\n",
    "    break"
   ]
  },
  {
   "cell_type": "code",
   "execution_count": null,
   "id": "e776b96a",
   "metadata": {},
   "outputs": [],
   "source": []
  }
 ],
 "metadata": {
  "kernelspec": {
   "display_name": "Python 3 (ipykernel)",
   "language": "python",
   "name": "python3"
  },
  "language_info": {
   "codemirror_mode": {
    "name": "ipython",
    "version": 3
   },
   "file_extension": ".py",
   "mimetype": "text/x-python",
   "name": "python",
   "nbconvert_exporter": "python",
   "pygments_lexer": "ipython3",
   "version": "3.11.3"
  }
 },
 "nbformat": 4,
 "nbformat_minor": 5
}
