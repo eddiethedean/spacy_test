{
 "cells": [
  {
   "cell_type": "code",
   "execution_count": 1,
   "id": "c15bfe9e",
   "metadata": {},
   "outputs": [],
   "source": [
    "import sqlalchemy as sa\n",
    "import fullmetalalchemy as fa"
   ]
  },
  {
   "cell_type": "code",
   "execution_count": 2,
   "id": "c8972968",
   "metadata": {},
   "outputs": [
    {
     "data": {
      "text/plain": [
       "['people', 'sales']"
      ]
     },
     "execution_count": 2,
     "metadata": {},
     "output_type": "execute_result"
    }
   ],
   "source": [
    "engine = sa.create_engine('sqlite:///join_test2.db')\n",
    "fa.features.get_table_names(engine)"
   ]
  },
  {
   "cell_type": "code",
   "execution_count": 3,
   "id": "d2af7731",
   "metadata": {},
   "outputs": [],
   "source": [
    "person_records = [{'person_id': 1, 'name': 'Joe'},\n",
    "                  {'person_id': 2, 'name': 'Bob'}]\n",
    "sales_records = [{'sale_id': 1, 'product': 'soap', 'person_id': 1},\n",
    "                 {'sale_id': 2, 'product': 'bacon', 'person_id': 1},\n",
    "                 {'sale_id': 3, 'product': 'coke', 'person_id': 2},\n",
    "                 {'sale_id': 4, 'product': 'sprite', 'person_id': 2}]\n",
    "people_table = fa.create.create_table_from_records('people',\n",
    "                                                   person_records,\n",
    "                                                   ['person_id'],\n",
    "                                                   engine,\n",
    "                                                   if_exists='replace')\n",
    "sales_table = fa.create.create_table_from_records('sales',\n",
    "                                                  sales_records,\n",
    "                                                  ['sale_id'],\n",
    "                                                  engine,\n",
    "                                                  if_exists='replace')"
   ]
  },
  {
   "cell_type": "code",
   "execution_count": 6,
   "id": "dafa6e3e",
   "metadata": {},
   "outputs": [
    {
     "ename": "AttributeError",
     "evalue": "module 'sqlalchemy' has no attribute 'select_from'",
     "output_type": "error",
     "traceback": [
      "\u001b[0;31m---------------------------------------------------------------------------\u001b[0m",
      "\u001b[0;31mAttributeError\u001b[0m                            Traceback (most recent call last)",
      "Cell \u001b[0;32mIn[6], line 8\u001b[0m\n\u001b[1;32m      5\u001b[0m         results \u001b[38;5;241m=\u001b[39m con\u001b[38;5;241m.\u001b[39mexecute(query)\n\u001b[1;32m      6\u001b[0m     \u001b[38;5;28;01mreturn\u001b[39;00m [\u001b[38;5;28mdict\u001b[39m(r) \u001b[38;5;28;01mfor\u001b[39;00m r \u001b[38;5;129;01min\u001b[39;00m results]\n\u001b[0;32m----> 8\u001b[0m j \u001b[38;5;241m=\u001b[39m join(sales_table, people_table, \u001b[38;5;124m'\u001b[39m\u001b[38;5;124mperson_id\u001b[39m\u001b[38;5;124m'\u001b[39m, \u001b[38;5;124m'\u001b[39m\u001b[38;5;124mperson_id\u001b[39m\u001b[38;5;124m'\u001b[39m, engine)\n\u001b[1;32m      9\u001b[0m j\n",
      "Cell \u001b[0;32mIn[6], line 3\u001b[0m, in \u001b[0;36mjoin\u001b[0;34m(left_table, right_table, left_on, right_on, engine)\u001b[0m\n\u001b[1;32m      1\u001b[0m \u001b[38;5;28;01mdef\u001b[39;00m \u001b[38;5;21mjoin\u001b[39m(left_table: sa\u001b[38;5;241m.\u001b[39mTable, right_table: sa\u001b[38;5;241m.\u001b[39mTable, left_on: \u001b[38;5;28mstr\u001b[39m, right_on: \u001b[38;5;28mstr\u001b[39m, engine):\n\u001b[1;32m      2\u001b[0m     j \u001b[38;5;241m=\u001b[39m left_table\u001b[38;5;241m.\u001b[39mjoin(right_table, left_table\u001b[38;5;241m.\u001b[39mc[left_on] \u001b[38;5;241m==\u001b[39m right_table\u001b[38;5;241m.\u001b[39mc[right_on])\n\u001b[0;32m----> 3\u001b[0m     query \u001b[38;5;241m=\u001b[39m sa\u001b[38;5;241m.\u001b[39mselect_from(j)\n\u001b[1;32m      4\u001b[0m     \u001b[38;5;28;01mwith\u001b[39;00m engine\u001b[38;5;241m.\u001b[39mconnect() \u001b[38;5;28;01mas\u001b[39;00m con:\n\u001b[1;32m      5\u001b[0m         results \u001b[38;5;241m=\u001b[39m con\u001b[38;5;241m.\u001b[39mexecute(query)\n",
      "\u001b[0;31mAttributeError\u001b[0m: module 'sqlalchemy' has no attribute 'select_from'"
     ]
    }
   ],
   "source": [
    "def join(left_table: sa.Table, right_table: sa.Table, left_on: str, right_on: str, engine):\n",
    "    j = left_table.join(right_table, left_table.c[left_on] == right_table.c[right_on])\n",
    "    query = sa.select_from(j)\n",
    "    with engine.connect() as con:\n",
    "        results = con.execute(query)\n",
    "    return [dict(r) for r in results]\n",
    "\n",
    "j = join(sales_table, people_table, 'person_id', 'person_id', engine)\n",
    "j"
   ]
  },
  {
   "cell_type": "code",
   "execution_count": null,
   "id": "03bf265f",
   "metadata": {},
   "outputs": [],
   "source": [
    "def select_records(table, engine) -> list[dict]:\n",
    "    query = sa.select(table)\n",
    "    with engine.connect() as con:\n",
    "        results = con.execute(query)\n",
    "    return [dict(r) for r in results]\n",
    "\n",
    "#select_records(j, engine)"
   ]
  },
  {
   "cell_type": "code",
   "execution_count": null,
   "id": "75c629f0",
   "metadata": {},
   "outputs": [],
   "source": []
  }
 ],
 "metadata": {
  "kernelspec": {
   "display_name": "Python 3 (ipykernel)",
   "language": "python",
   "name": "python3"
  },
  "language_info": {
   "codemirror_mode": {
    "name": "ipython",
    "version": 3
   },
   "file_extension": ".py",
   "mimetype": "text/x-python",
   "name": "python",
   "nbconvert_exporter": "python",
   "pygments_lexer": "ipython3",
   "version": "3.11.3"
  }
 },
 "nbformat": 4,
 "nbformat_minor": 5
}
