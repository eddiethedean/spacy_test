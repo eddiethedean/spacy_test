{
 "cells": [
  {
   "cell_type": "code",
   "execution_count": 14,
   "id": "91c4ed96",
   "metadata": {},
   "outputs": [],
   "source": [
    "import sqlalchemy as sa\n",
    "import fullmetalalchemy as fa\n",
    "import pandas as pd"
   ]
  },
  {
   "cell_type": "code",
   "execution_count": 3,
   "id": "4b0ab92f",
   "metadata": {},
   "outputs": [
    {
     "data": {
      "text/plain": [
       "['entities', 'found_entities', 'text']"
      ]
     },
     "execution_count": 3,
     "metadata": {},
     "output_type": "execute_result"
    }
   ],
   "source": [
    "engine = sa.create_engine('sqlite:///data.db')\n",
    "fa.features.get_table_names(engine)"
   ]
  },
  {
   "cell_type": "code",
   "execution_count": 4,
   "id": "aa684f17",
   "metadata": {},
   "outputs": [],
   "source": [
    "entities = fa.features.get_table('entities', engine)\n",
    "found_entities = fa.features.get_table('found_entities', engine)\n",
    "text = fa.features.get_table('text', engine)"
   ]
  },
  {
   "cell_type": "code",
   "execution_count": 5,
   "id": "268a2538",
   "metadata": {},
   "outputs": [
    {
     "name": "stdout",
     "output_type": "stream",
     "text": [
      "entities\n",
      "['id', 'entity']\n",
      "found_entities\n",
      "['id', 'text_id', 'entity_id', 'label']\n"
     ]
    }
   ],
   "source": [
    "print('entities')\n",
    "print(fa.features.get_column_names(entities))\n",
    "print('found_entities')\n",
    "print(fa.features.get_column_names(found_entities))"
   ]
  },
  {
   "cell_type": "code",
   "execution_count": 7,
   "id": "faf7f24d",
   "metadata": {},
   "outputs": [],
   "source": [
    "FoundEntities = fa.features.get_class('found_entities', engine)\n",
    "Entities = fa.features.get_class('entities', engine)"
   ]
  },
  {
   "cell_type": "code",
   "execution_count": 21,
   "id": "629b7e1c",
   "metadata": {},
   "outputs": [
    {
     "data": {
      "text/html": [
       "<div>\n",
       "<style scoped>\n",
       "    .dataframe tbody tr th:only-of-type {\n",
       "        vertical-align: middle;\n",
       "    }\n",
       "\n",
       "    .dataframe tbody tr th {\n",
       "        vertical-align: top;\n",
       "    }\n",
       "\n",
       "    .dataframe thead th {\n",
       "        text-align: right;\n",
       "    }\n",
       "</style>\n",
       "<table border=\"1\" class=\"dataframe\">\n",
       "  <thead>\n",
       "    <tr style=\"text-align: right;\">\n",
       "      <th></th>\n",
       "      <th>id</th>\n",
       "      <th>text_id</th>\n",
       "      <th>entity_id</th>\n",
       "      <th>label</th>\n",
       "      <th>id_1</th>\n",
       "      <th>entity</th>\n",
       "    </tr>\n",
       "  </thead>\n",
       "  <tbody>\n",
       "    <tr>\n",
       "      <th>0</th>\n",
       "      <td>1</td>\n",
       "      <td>0</td>\n",
       "      <td>1</td>\n",
       "      <td>CARDINAL</td>\n",
       "      <td>1</td>\n",
       "      <td>Thousands</td>\n",
       "    </tr>\n",
       "    <tr>\n",
       "      <th>1</th>\n",
       "      <td>2</td>\n",
       "      <td>0</td>\n",
       "      <td>2</td>\n",
       "      <td>GPE</td>\n",
       "      <td>2</td>\n",
       "      <td>London</td>\n",
       "    </tr>\n",
       "    <tr>\n",
       "      <th>2</th>\n",
       "      <td>3</td>\n",
       "      <td>0</td>\n",
       "      <td>3</td>\n",
       "      <td>GPE</td>\n",
       "      <td>3</td>\n",
       "      <td>Iraq</td>\n",
       "    </tr>\n",
       "    <tr>\n",
       "      <th>3</th>\n",
       "      <td>4</td>\n",
       "      <td>0</td>\n",
       "      <td>4</td>\n",
       "      <td>NORP</td>\n",
       "      <td>4</td>\n",
       "      <td>British</td>\n",
       "    </tr>\n",
       "    <tr>\n",
       "      <th>4</th>\n",
       "      <td>5</td>\n",
       "      <td>1</td>\n",
       "      <td>5</td>\n",
       "      <td>NORP</td>\n",
       "      <td>5</td>\n",
       "      <td>Iranian</td>\n",
       "    </tr>\n",
       "    <tr>\n",
       "      <th>...</th>\n",
       "      <td>...</td>\n",
       "      <td>...</td>\n",
       "      <td>...</td>\n",
       "      <td>...</td>\n",
       "      <td>...</td>\n",
       "      <td>...</td>\n",
       "    </tr>\n",
       "    <tr>\n",
       "      <th>138778</th>\n",
       "      <td>138779</td>\n",
       "      <td>47956</td>\n",
       "      <td>422</td>\n",
       "      <td>GPE</td>\n",
       "      <td>422</td>\n",
       "      <td>Iran</td>\n",
       "    </tr>\n",
       "    <tr>\n",
       "      <th>138779</th>\n",
       "      <td>138780</td>\n",
       "      <td>47956</td>\n",
       "      <td>8563</td>\n",
       "      <td>DATE</td>\n",
       "      <td>8563</td>\n",
       "      <td>June 12</td>\n",
       "    </tr>\n",
       "    <tr>\n",
       "      <th>138780</th>\n",
       "      <td>138781</td>\n",
       "      <td>47956</td>\n",
       "      <td>1151</td>\n",
       "      <td>CARDINAL</td>\n",
       "      <td>1151</td>\n",
       "      <td>hundreds</td>\n",
       "    </tr>\n",
       "    <tr>\n",
       "      <th>138781</th>\n",
       "      <td>138782</td>\n",
       "      <td>47958</td>\n",
       "      <td>1223</td>\n",
       "      <td>ORG</td>\n",
       "      <td>1223</td>\n",
       "      <td>The United Nations</td>\n",
       "    </tr>\n",
       "    <tr>\n",
       "      <th>138782</th>\n",
       "      <td>138783</td>\n",
       "      <td>47958</td>\n",
       "      <td>22</td>\n",
       "      <td>GPE</td>\n",
       "      <td>22</td>\n",
       "      <td>Indonesia</td>\n",
       "    </tr>\n",
       "  </tbody>\n",
       "</table>\n",
       "<p>138783 rows × 6 columns</p>\n",
       "</div>"
      ],
      "text/plain": [
       "            id  text_id  entity_id     label  id_1              entity\n",
       "0            1        0          1  CARDINAL     1           Thousands\n",
       "1            2        0          2       GPE     2              London\n",
       "2            3        0          3       GPE     3                Iraq\n",
       "3            4        0          4      NORP     4             British\n",
       "4            5        1          5      NORP     5             Iranian\n",
       "...        ...      ...        ...       ...   ...                 ...\n",
       "138778  138779    47956        422       GPE   422                Iran\n",
       "138779  138780    47956       8563      DATE  8563             June 12\n",
       "138780  138781    47956       1151  CARDINAL  1151            hundreds\n",
       "138781  138782    47958       1223       ORG  1223  The United Nations\n",
       "138782  138783    47958         22       GPE    22           Indonesia\n",
       "\n",
       "[138783 rows x 6 columns]"
      ]
     },
     "execution_count": 21,
     "metadata": {},
     "output_type": "execute_result"
    }
   ],
   "source": [
    "stmt = sa.select(FoundEntities, Entities).join(Entities, FoundEntities.entity_id == Entities.id)\n",
    "pd.read_sql(stmt, engine)"
   ]
  },
  {
   "cell_type": "code",
   "execution_count": null,
   "id": "00fed10f",
   "metadata": {},
   "outputs": [],
   "source": [
    "def join(\n",
    "    left_table: sa.Table,\n",
    "    right_table: sa.Table,\n",
    "    on_left: str\n",
    "    column_names: list[str] = None\n",
    ") -> list[dict]:\n",
    "    ..."
   ]
  }
 ],
 "metadata": {
  "kernelspec": {
   "display_name": "Python 3 (ipykernel)",
   "language": "python",
   "name": "python3"
  },
  "language_info": {
   "codemirror_mode": {
    "name": "ipython",
    "version": 3
   },
   "file_extension": ".py",
   "mimetype": "text/x-python",
   "name": "python",
   "nbconvert_exporter": "python",
   "pygments_lexer": "ipython3",
   "version": "3.11.3"
  }
 },
 "nbformat": 4,
 "nbformat_minor": 5
}
