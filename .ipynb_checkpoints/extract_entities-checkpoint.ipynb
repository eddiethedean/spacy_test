{
 "cells": [
  {
   "cell_type": "code",
   "execution_count": 23,
   "id": "f685c36b",
   "metadata": {},
   "outputs": [
    {
     "data": {
      "text/html": [
       "<span class=\"tex2jax_ignore\"><div class=\"entities\" style=\"line-height: 2.5; direction: ltr\">\n",
       "<mark class=\"entity\" style=\"background: #feca74; padding: 0.45em 0.6em; margin: 0 0.25em; line-height: 1; border-radius: 0.35em;\">\n",
       "    London\n",
       "    <span style=\"font-size: 0.8em; font-weight: bold; line-height: 1; border-radius: 0.35em; vertical-align: middle; margin-left: 0.5rem\">GPE</span>\n",
       "</mark>\n",
       " is a big city in \n",
       "<mark class=\"entity\" style=\"background: #feca74; padding: 0.45em 0.6em; margin: 0 0.25em; line-height: 1; border-radius: 0.35em;\">\n",
       "    the United Kingdom\n",
       "    <span style=\"font-size: 0.8em; font-weight: bold; line-height: 1; border-radius: 0.35em; vertical-align: middle; margin-left: 0.5rem\">GPE</span>\n",
       "</mark>\n",
       ".</div></span>"
      ],
      "text/plain": [
       "<IPython.core.display.HTML object>"
      ]
     },
     "metadata": {},
     "output_type": "display_data"
    }
   ],
   "source": [
    "# pip install thinc-apple-ops\n",
    "# !python -m spacy download en_core_web_sm\n",
    "# !python -m spacy download en_core_web_trf\n",
    "\n",
    "import spacy\n",
    "from spacy import displacy\n",
    "\n",
    "MODEL = \"en_core_web_trf\"\n",
    "\n",
    "text = \"When Sebastian Thrun started working on self-driving cars at Google in 2007, few people outside of the company took him seriously.\"\n",
    "text = 'London is a big city in the United Kingdom.'\n",
    "\n",
    "def render_entities(text: str) -> None:\n",
    "    nlp = spacy.load(MODEL)\n",
    "    doc = nlp(text)\n",
    "    displacy.render(doc, style=\"ent\")\n",
    "    \n",
    "render_entities(text)"
   ]
  },
  {
   "cell_type": "code",
   "execution_count": 17,
   "id": "0e8bc020",
   "metadata": {},
   "outputs": [],
   "source": [
    "def print_entity_stats(text: str) -> None:\n",
    "    nlp = spacy.load(MODEL)\n",
    "    doc = nlp(text)\n",
    "    for ent in doc.ents:\n",
    "        print(f'{ent.text}, {ent.start_char}, {ent.end_char}, {ent.label_}')"
   ]
  },
  {
   "cell_type": "code",
   "execution_count": 18,
   "id": "ba3506c6",
   "metadata": {},
   "outputs": [
    {
     "name": "stdout",
     "output_type": "stream",
     "text": [
      "Kylar, 0, 5, NORP\n",
      "Dfjjfdi, 34, 41, GPE\n"
     ]
    },
    {
     "data": {
      "text/html": [
       "<span class=\"tex2jax_ignore\"><div class=\"entities\" style=\"line-height: 2.5; direction: ltr\">\n",
       "<mark class=\"entity\" style=\"background: #c887fb; padding: 0.45em 0.6em; margin: 0 0.25em; line-height: 1; border-radius: 0.35em;\">\n",
       "    Kylar\n",
       "    <span style=\"font-size: 0.8em; font-weight: bold; line-height: 1; border-radius: 0.35em; vertical-align: middle; margin-left: 0.5rem\">NORP</span>\n",
       "</mark>\n",
       " went in for the kill, using \n",
       "<mark class=\"entity\" style=\"background: #feca74; padding: 0.45em 0.6em; margin: 0 0.25em; line-height: 1; border-radius: 0.35em;\">\n",
       "    Dfjjfdi\n",
       "    <span style=\"font-size: 0.8em; font-weight: bold; line-height: 1; border-radius: 0.35em; vertical-align: middle; margin-left: 0.5rem\">GPE</span>\n",
       "</mark>\n",
       ".</div></span>"
      ],
      "text/plain": [
       "<IPython.core.display.HTML object>"
      ]
     },
     "metadata": {},
     "output_type": "display_data"
    }
   ],
   "source": [
    "text = 'Kylar went in for the kill, using Dfjjfdi.'\n",
    "print_entity_stats(text)\n",
    "render_entities(text)"
   ]
  },
  {
   "cell_type": "code",
   "execution_count": 19,
   "id": "00d9ab22",
   "metadata": {},
   "outputs": [
    {
     "name": "stdout",
     "output_type": "stream",
     "text": [
      "this minute, 84, 95, TIME\n",
      "this hour, 97, 106, TIME\n",
      "the past decade, 682, 697, DATE\n"
     ]
    },
    {
     "data": {
      "text/html": [
       "<span class=\"tex2jax_ignore\"><div class=\"entities\" style=\"line-height: 2.5; direction: ltr\">My body shuffles forward as directed, but if there is some essential I that endures \n",
       "<mark class=\"entity\" style=\"background: #bfe1d9; padding: 0.45em 0.6em; margin: 0 0.25em; line-height: 1; border-radius: 0.35em;\">\n",
       "    this minute\n",
       "    <span style=\"font-size: 0.8em; font-weight: bold; line-height: 1; border-radius: 0.35em; vertical-align: middle; margin-left: 0.5rem\">TIME</span>\n",
       "</mark>\n",
       ", \n",
       "<mark class=\"entity\" style=\"background: #bfe1d9; padding: 0.45em 0.6em; margin: 0 0.25em; line-height: 1; border-radius: 0.35em;\">\n",
       "    this hour\n",
       "    <span style=\"font-size: 0.8em; font-weight: bold; line-height: 1; border-radius: 0.35em; vertical-align: middle; margin-left: 0.5rem\">TIME</span>\n",
       "</mark>\n",
       ", he is somewhere lost within me, somewhere deep in the unlit, nitred cellars of my mind, where he fled the trenchant horrors of daylight for the muddy gloom behind casks of old joys now turned to vinegar. When the monster you flee is yourself, there is no escape in escape.</br>I don't count the guards. I don't judge who seems competent with the weapons they carry, or which work seamlessly with the others, or who bungled the passphrases to see who's either new or stupid and thus a weak link. The gently humming activity of engaged perception that has become instinctive over \n",
       "<mark class=\"entity\" style=\"background: #bfe1d9; padding: 0.45em 0.6em; margin: 0 0.25em; line-height: 1; border-radius: 0.35em;\">\n",
       "    the past decade\n",
       "    <span style=\"font-size: 0.8em; font-weight: bold; line-height: 1; border-radius: 0.35em; vertical-align: middle; margin-left: 0.5rem\">DATE</span>\n",
       "</mark>\n",
       " is now eerily muted.</div></span>"
      ],
      "text/plain": [
       "<IPython.core.display.HTML object>"
      ]
     },
     "metadata": {},
     "output_type": "display_data"
    }
   ],
   "source": [
    "text = \"\"\"My body shuffles forward as directed, but if there is some essential I that endures this minute, this hour, he is somewhere lost within me, somewhere deep in the unlit, nitred cellars of my mind, where he fled the trenchant horrors of daylight for the muddy gloom behind casks of old joys now turned to vinegar. When the monster you flee is yourself, there is no escape in escape.\n",
    "I don't count the guards. I don't judge who seems competent with the weapons they carry, or which work seamlessly with the others, or who bungled the passphrases to see who's either new or stupid and thus a weak link. The gently humming activity of engaged perception that has become instinctive over the past decade is now eerily muted.\"\"\"\n",
    "print_entity_stats(text)\n",
    "render_entities(text)"
   ]
  },
  {
   "cell_type": "code",
   "execution_count": 24,
   "id": "b16e54a6",
   "metadata": {},
   "outputs": [
    {
     "name": "stdout",
     "output_type": "stream",
     "text": [
      "Elene, 14, 19, PERSON\n",
      "half, 1049, 1053, CARDINAL\n"
     ]
    },
    {
     "data": {
      "text/html": [
       "<span class=\"tex2jax_ignore\"><div class=\"entities\" style=\"line-height: 2.5; direction: ltr\">den vision of \n",
       "<mark class=\"entity\" style=\"background: #aa9cfc; padding: 0.45em 0.6em; margin: 0 0.25em; line-height: 1; border-radius: 0.35em;\">\n",
       "    Elene\n",
       "    <span style=\"font-size: 0.8em; font-weight: bold; line-height: 1; border-radius: 0.35em; vertical-align: middle; margin-left: 0.5rem\">PERSON</span>\n",
       "</mark>\n",
       ", radiant in white, holding a bundle in her arms, gaze cast down, smiling fit to burst. She's dandling the babe, and gets caught up in the moment, and begins dancing.</br>Waves of nausea slosh in my guts. Hot, acrid bile sears the back of my throat.</br>As she comes out of a spin, skirts twirling, she catches sight of me and flushes, momentarily embarrassed, then laughs and waves to me to hurry over. The smell of her eucalyptus soap and her gentle breath wafts over me as she tilts the bundle up. 'Look! He's smiling.</br>Your son is smiling for his daddy.'</br>As she lifts the bundle, I see the gaping wound where I stabbed her.</br>Her voice grows indistinct as my mind veers away, runs from those razor-eyed phantoms deeper again into the catacombs of my mind. But their fingers have sunk into my brain as deep as the unique blend of her scents, which I'll never smell again.</br>Don't throw up. Don't throw up.</br>Darkness closes around me. Time passes.</br>Awareness is pain.</br>A voice in the distance. ~Kylar?~</br>I attempt to open my eyes; one's swollen \n",
       "<mark class=\"entity\" style=\"background: #e4e7d2; padding: 0.45em 0.6em; margin: 0 0.25em; line-height: 1; border-radius: 0.35em;\">\n",
       "    half\n",
       "    <span style=\"font-size: 0.8em; font-weight: bold; line-height: 1; border-radius: 0.35em; vertical-align: middle; margin-left: 0.5rem\">CARDINAL</span>\n",
       "</mark>\n",
       "-shut. The aches from the beating are nothing compared to the sucking chest wound</div></span>"
      ],
      "text/plain": [
       "<IPython.core.display.HTML object>"
      ]
     },
     "metadata": {},
     "output_type": "display_data"
    }
   ],
   "source": [
    "text = \"\"\"den vision of Elene, radiant in white, holding a bundle in her arms, gaze cast down, smiling fit to burst. She's dandling the babe, and gets caught up in the moment, and begins dancing.\n",
    "Waves of nausea slosh in my guts. Hot, acrid bile sears the back of my throat.\n",
    "As she comes out of a spin, skirts twirling, she catches sight of me and flushes, momentarily embarrassed, then laughs and waves to me to hurry over. The smell of her eucalyptus soap and her gentle breath wafts over me as she tilts the bundle up. 'Look! He's smiling.\n",
    "Your son is smiling for his daddy.'\n",
    "As she lifts the bundle, I see the gaping wound where I stabbed her.\n",
    "Her voice grows indistinct as my mind veers away, runs from those razor-eyed phantoms deeper again into the catacombs of my mind. But their fingers have sunk into my brain as deep as the unique blend of her scents, which I'll never smell again.\n",
    "Don't throw up. Don't throw up.\n",
    "Darkness closes around me. Time passes.\n",
    "Awareness is pain.\n",
    "A voice in the distance. ~Kylar?~\n",
    "I attempt to open my eyes; one's swollen half-shut. The aches from the beating are nothing compared to the sucking chest wound\"\"\"\n",
    "print_entity_stats(text)\n",
    "render_entities(text)"
   ]
  },
  {
   "cell_type": "code",
   "execution_count": 25,
   "id": "a4a570a9",
   "metadata": {},
   "outputs": [
    {
     "name": "stdout",
     "output_type": "stream",
     "text": [
      "Apple, 0, 5, ORG\n",
      "U.K., 27, 31, GPE\n",
      "$1 billion, 44, 54, MONEY\n"
     ]
    },
    {
     "data": {
      "text/html": [
       "<span class=\"tex2jax_ignore\"><div class=\"entities\" style=\"line-height: 2.5; direction: ltr\">\n",
       "<mark class=\"entity\" style=\"background: #7aecec; padding: 0.45em 0.6em; margin: 0 0.25em; line-height: 1; border-radius: 0.35em;\">\n",
       "    Apple\n",
       "    <span style=\"font-size: 0.8em; font-weight: bold; line-height: 1; border-radius: 0.35em; vertical-align: middle; margin-left: 0.5rem\">ORG</span>\n",
       "</mark>\n",
       " is looking at buying \n",
       "<mark class=\"entity\" style=\"background: #feca74; padding: 0.45em 0.6em; margin: 0 0.25em; line-height: 1; border-radius: 0.35em;\">\n",
       "    U.K.\n",
       "    <span style=\"font-size: 0.8em; font-weight: bold; line-height: 1; border-radius: 0.35em; vertical-align: middle; margin-left: 0.5rem\">GPE</span>\n",
       "</mark>\n",
       " startup for \n",
       "<mark class=\"entity\" style=\"background: #e4e7d2; padding: 0.45em 0.6em; margin: 0 0.25em; line-height: 1; border-radius: 0.35em;\">\n",
       "    $1 billion\n",
       "    <span style=\"font-size: 0.8em; font-weight: bold; line-height: 1; border-radius: 0.35em; vertical-align: middle; margin-left: 0.5rem\">MONEY</span>\n",
       "</mark>\n",
       "</div></span>"
      ],
      "text/plain": [
       "<IPython.core.display.HTML object>"
      ]
     },
     "metadata": {},
     "output_type": "display_data"
    }
   ],
   "source": [
    "text = \"Apple is looking at buying U.K. startup for $1 billion\"\n",
    "print_entity_stats(text)\n",
    "render_entities(text)"
   ]
  },
  {
   "cell_type": "code",
   "execution_count": 27,
   "id": "9987960e",
   "metadata": {},
   "outputs": [
    {
     "data": {
      "text/html": [
       "<span class=\"tex2jax_ignore\"><div class=\"entities\" style=\"line-height: 2.5; direction: ltr\">\n",
       "<mark class=\"entity\" style=\"background: #7aecec; padding: 0.45em 0.6em; margin: 0 0.25em; line-height: 1; border-radius: 0.35em;\">\n",
       "    spacex\n",
       "    <span style=\"font-size: 0.8em; font-weight: bold; line-height: 1; border-radius: 0.35em; vertical-align: middle; margin-left: 0.5rem\">ORG</span>\n",
       "</mark>\n",
       " is an aerospace manufacturer and space transport services company headquartered in \n",
       "<mark class=\"entity\" style=\"background: #feca74; padding: 0.45em 0.6em; margin: 0 0.25em; line-height: 1; border-radius: 0.35em;\">\n",
       "    California\n",
       "    <span style=\"font-size: 0.8em; font-weight: bold; line-height: 1; border-radius: 0.35em; vertical-align: middle; margin-left: 0.5rem\">GPE</span>\n",
       "</mark>\n",
       ". It was founded in \n",
       "<mark class=\"entity\" style=\"background: #bfe1d9; padding: 0.45em 0.6em; margin: 0 0.25em; line-height: 1; border-radius: 0.35em;\">\n",
       "    2002\n",
       "    <span style=\"font-size: 0.8em; font-weight: bold; line-height: 1; border-radius: 0.35em; vertical-align: middle; margin-left: 0.5rem\">DATE</span>\n",
       "</mark>\n",
       " by entrepreneur and investor \n",
       "<mark class=\"entity\" style=\"background: #aa9cfc; padding: 0.45em 0.6em; margin: 0 0.25em; line-height: 1; border-radius: 0.35em;\">\n",
       "    Elon Musk\n",
       "    <span style=\"font-size: 0.8em; font-weight: bold; line-height: 1; border-radius: 0.35em; vertical-align: middle; margin-left: 0.5rem\">PERSON</span>\n",
       "</mark>\n",
       " with the goal of reducing space transportation costs and enabling the colonization of \n",
       "<mark class=\"entity\" style=\"background: #ff9561; padding: 0.45em 0.6em; margin: 0 0.25em; line-height: 1; border-radius: 0.35em;\">\n",
       "    Mars\n",
       "    <span style=\"font-size: 0.8em; font-weight: bold; line-height: 1; border-radius: 0.35em; vertical-align: middle; margin-left: 0.5rem\">LOC</span>\n",
       "</mark>\n",
       ".</div></span>"
      ],
      "text/plain": [
       "<IPython.core.display.HTML object>"
      ]
     },
     "metadata": {},
     "output_type": "display_data"
    }
   ],
   "source": [
    "text = \"\"\"spacex is an aerospace manufacturer and space transport services company headquartered in California. It was founded in 2002 by entrepreneur and investor Elon Musk with the goal of reducing space transportation costs and enabling the colonization of Mars.\"\"\"\n",
    "render_entities(text)"
   ]
  },
  {
   "cell_type": "code",
   "execution_count": null,
   "id": "1e2e68ac",
   "metadata": {},
   "outputs": [],
   "source": []
  }
 ],
 "metadata": {
  "kernelspec": {
   "display_name": "Python 3 (ipykernel)",
   "language": "python",
   "name": "python3"
  },
  "language_info": {
   "codemirror_mode": {
    "name": "ipython",
    "version": 3
   },
   "file_extension": ".py",
   "mimetype": "text/x-python",
   "name": "python",
   "nbconvert_exporter": "python",
   "pygments_lexer": "ipython3",
   "version": "3.11.3"
  }
 },
 "nbformat": 4,
 "nbformat_minor": 5
}
