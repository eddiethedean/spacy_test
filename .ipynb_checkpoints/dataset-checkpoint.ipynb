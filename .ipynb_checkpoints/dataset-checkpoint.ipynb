{
 "cells": [
  {
   "cell_type": "code",
   "execution_count": 3,
   "id": "35f9092e",
   "metadata": {},
   "outputs": [],
   "source": [
    "import pandas as pd"
   ]
  },
  {
   "cell_type": "code",
   "execution_count": 19,
   "id": "4740c391",
   "metadata": {},
   "outputs": [
    {
     "data": {
      "text/html": [
       "<div>\n",
       "<style scoped>\n",
       "    .dataframe tbody tr th:only-of-type {\n",
       "        vertical-align: middle;\n",
       "    }\n",
       "\n",
       "    .dataframe tbody tr th {\n",
       "        vertical-align: top;\n",
       "    }\n",
       "\n",
       "    .dataframe thead th {\n",
       "        text-align: right;\n",
       "    }\n",
       "</style>\n",
       "<table border=\"1\" class=\"dataframe\">\n",
       "  <thead>\n",
       "    <tr style=\"text-align: right;\">\n",
       "      <th></th>\n",
       "      <th>text</th>\n",
       "    </tr>\n",
       "  </thead>\n",
       "  <tbody>\n",
       "    <tr>\n",
       "      <th>0</th>\n",
       "      <td>Thousands of demonstrators have marched throug...</td>\n",
       "    </tr>\n",
       "    <tr>\n",
       "      <th>1</th>\n",
       "      <td>Iranian officials say they expect to get acces...</td>\n",
       "    </tr>\n",
       "    <tr>\n",
       "      <th>2</th>\n",
       "      <td>Helicopter gunships Saturday pounded militant ...</td>\n",
       "    </tr>\n",
       "    <tr>\n",
       "      <th>3</th>\n",
       "      <td>They left after a tense hour-long standoff wit...</td>\n",
       "    </tr>\n",
       "    <tr>\n",
       "      <th>4</th>\n",
       "      <td>U.N. relief coordinator Jan Egeland said Sunda...</td>\n",
       "    </tr>\n",
       "    <tr>\n",
       "      <th>...</th>\n",
       "      <td>...</td>\n",
       "    </tr>\n",
       "    <tr>\n",
       "      <th>47954</th>\n",
       "      <td>Opposition leader Mir Hossein Mousavi has said...</td>\n",
       "    </tr>\n",
       "    <tr>\n",
       "      <th>47955</th>\n",
       "      <td>On Thursday , Iranian state media published a ...</td>\n",
       "    </tr>\n",
       "    <tr>\n",
       "      <th>47956</th>\n",
       "      <td>Following Iran 's disputed June 12 elections ,...</td>\n",
       "    </tr>\n",
       "    <tr>\n",
       "      <th>47957</th>\n",
       "      <td>Since then , authorities have held public tria...</td>\n",
       "    </tr>\n",
       "    <tr>\n",
       "      <th>47958</th>\n",
       "      <td>The United Nations is praising the use of mili...</td>\n",
       "    </tr>\n",
       "  </tbody>\n",
       "</table>\n",
       "<p>47959 rows × 1 columns</p>\n",
       "</div>"
      ],
      "text/plain": [
       "                                                    text\n",
       "0      Thousands of demonstrators have marched throug...\n",
       "1      Iranian officials say they expect to get acces...\n",
       "2      Helicopter gunships Saturday pounded militant ...\n",
       "3      They left after a tense hour-long standoff wit...\n",
       "4      U.N. relief coordinator Jan Egeland said Sunda...\n",
       "...                                                  ...\n",
       "47954  Opposition leader Mir Hossein Mousavi has said...\n",
       "47955  On Thursday , Iranian state media published a ...\n",
       "47956  Following Iran 's disputed June 12 elections ,...\n",
       "47957  Since then , authorities have held public tria...\n",
       "47958  The United Nations is praising the use of mili...\n",
       "\n",
       "[47959 rows x 1 columns]"
      ]
     },
     "execution_count": 19,
     "metadata": {},
     "output_type": "execute_result"
    }
   ],
   "source": [
    "df = pd.read_csv('ner.csv')\n",
    "df = df.reset_index(drop=False)[['text']]\n",
    "df"
   ]
  },
  {
   "cell_type": "code",
   "execution_count": 22,
   "id": "2c5c37bd",
   "metadata": {},
   "outputs": [
    {
     "data": {
      "text/html": [
       "<div>\n",
       "<style scoped>\n",
       "    .dataframe tbody tr th:only-of-type {\n",
       "        vertical-align: middle;\n",
       "    }\n",
       "\n",
       "    .dataframe tbody tr th {\n",
       "        vertical-align: top;\n",
       "    }\n",
       "\n",
       "    .dataframe thead th {\n",
       "        text-align: right;\n",
       "    }\n",
       "</style>\n",
       "<table border=\"1\" class=\"dataframe\">\n",
       "  <thead>\n",
       "    <tr style=\"text-align: right;\">\n",
       "      <th></th>\n",
       "      <th>id</th>\n",
       "      <th>text_id</th>\n",
       "      <th>text</th>\n",
       "    </tr>\n",
       "  </thead>\n",
       "  <tbody>\n",
       "    <tr>\n",
       "      <th>0</th>\n",
       "      <td>0</td>\n",
       "      <td>9108197940440611089</td>\n",
       "      <td>Thousands of demonstrators have marched throug...</td>\n",
       "    </tr>\n",
       "    <tr>\n",
       "      <th>1</th>\n",
       "      <td>1</td>\n",
       "      <td>5164076887785871116</td>\n",
       "      <td>Iranian officials say they expect to get acces...</td>\n",
       "    </tr>\n",
       "    <tr>\n",
       "      <th>2</th>\n",
       "      <td>2</td>\n",
       "      <td>2537450301048281436</td>\n",
       "      <td>Helicopter gunships Saturday pounded militant ...</td>\n",
       "    </tr>\n",
       "    <tr>\n",
       "      <th>3</th>\n",
       "      <td>3</td>\n",
       "      <td>-3579858237453424790</td>\n",
       "      <td>They left after a tense hour-long standoff wit...</td>\n",
       "    </tr>\n",
       "    <tr>\n",
       "      <th>4</th>\n",
       "      <td>4</td>\n",
       "      <td>2009798445960083967</td>\n",
       "      <td>U.N. relief coordinator Jan Egeland said Sunda...</td>\n",
       "    </tr>\n",
       "    <tr>\n",
       "      <th>...</th>\n",
       "      <td>...</td>\n",
       "      <td>...</td>\n",
       "      <td>...</td>\n",
       "    </tr>\n",
       "    <tr>\n",
       "      <th>47954</th>\n",
       "      <td>47954</td>\n",
       "      <td>8716043151199653781</td>\n",
       "      <td>Opposition leader Mir Hossein Mousavi has said...</td>\n",
       "    </tr>\n",
       "    <tr>\n",
       "      <th>47955</th>\n",
       "      <td>47955</td>\n",
       "      <td>-4015685906750674872</td>\n",
       "      <td>On Thursday , Iranian state media published a ...</td>\n",
       "    </tr>\n",
       "    <tr>\n",
       "      <th>47956</th>\n",
       "      <td>47956</td>\n",
       "      <td>-4280657559184086753</td>\n",
       "      <td>Following Iran 's disputed June 12 elections ,...</td>\n",
       "    </tr>\n",
       "    <tr>\n",
       "      <th>47957</th>\n",
       "      <td>47957</td>\n",
       "      <td>-8217928520425301963</td>\n",
       "      <td>Since then , authorities have held public tria...</td>\n",
       "    </tr>\n",
       "    <tr>\n",
       "      <th>47958</th>\n",
       "      <td>47958</td>\n",
       "      <td>-5529408605585605862</td>\n",
       "      <td>The United Nations is praising the use of mili...</td>\n",
       "    </tr>\n",
       "  </tbody>\n",
       "</table>\n",
       "<p>47959 rows × 3 columns</p>\n",
       "</div>"
      ],
      "text/plain": [
       "          id               text_id  \\\n",
       "0          0   9108197940440611089   \n",
       "1          1   5164076887785871116   \n",
       "2          2   2537450301048281436   \n",
       "3          3  -3579858237453424790   \n",
       "4          4   2009798445960083967   \n",
       "...      ...                   ...   \n",
       "47954  47954   8716043151199653781   \n",
       "47955  47955  -4015685906750674872   \n",
       "47956  47956  -4280657559184086753   \n",
       "47957  47957  -8217928520425301963   \n",
       "47958  47958  -5529408605585605862   \n",
       "\n",
       "                                                    text  \n",
       "0      Thousands of demonstrators have marched throug...  \n",
       "1      Iranian officials say they expect to get acces...  \n",
       "2      Helicopter gunships Saturday pounded militant ...  \n",
       "3      They left after a tense hour-long standoff wit...  \n",
       "4      U.N. relief coordinator Jan Egeland said Sunda...  \n",
       "...                                                  ...  \n",
       "47954  Opposition leader Mir Hossein Mousavi has said...  \n",
       "47955  On Thursday , Iranian state media published a ...  \n",
       "47956  Following Iran 's disputed June 12 elections ,...  \n",
       "47957  Since then , authorities have held public tria...  \n",
       "47958  The United Nations is praising the use of mili...  \n",
       "\n",
       "[47959 rows x 3 columns]"
      ]
     },
     "execution_count": 22,
     "metadata": {},
     "output_type": "execute_result"
    }
   ],
   "source": [
    "df['text_id'] = df['text'].apply(hash).astype(str)\n",
    "df['id'] = df.index\n",
    "df = df[['id', 'text_id', 'text']]\n",
    "df"
   ]
  },
  {
   "cell_type": "code",
   "execution_count": 24,
   "id": "99e49e3b",
   "metadata": {},
   "outputs": [],
   "source": [
    "import fullmetalalchemy as fa"
   ]
  },
  {
   "cell_type": "code",
   "execution_count": 25,
   "id": "77bd91ba",
   "metadata": {},
   "outputs": [],
   "source": [
    "engine = fa.create.create_engine('sqlite:///data.db')"
   ]
  },
  {
   "cell_type": "code",
   "execution_count": 28,
   "id": "6ce0ea49",
   "metadata": {},
   "outputs": [],
   "source": [
    "text_table = fa.create.create_table_from_records(\n",
    "    table_name='text',\n",
    "    records=df.to_dict('records'),\n",
    "    primary_key=['id'],\n",
    "    engine=engine\n",
    ")"
   ]
  },
  {
   "cell_type": "code",
   "execution_count": 30,
   "id": "3e786ec1",
   "metadata": {},
   "outputs": [
    {
     "data": {
      "text/plain": [
       "['id']"
      ]
     },
     "execution_count": 30,
     "metadata": {},
     "output_type": "execute_result"
    }
   ],
   "source": [
    "entities"
   ]
  },
  {
   "cell_type": "code",
   "execution_count": null,
   "id": "d4aa2e7a",
   "metadata": {},
   "outputs": [],
   "source": []
  }
 ],
 "metadata": {
  "kernelspec": {
   "display_name": "Python 3 (ipykernel)",
   "language": "python",
   "name": "python3"
  },
  "language_info": {
   "codemirror_mode": {
    "name": "ipython",
    "version": 3
   },
   "file_extension": ".py",
   "mimetype": "text/x-python",
   "name": "python",
   "nbconvert_exporter": "python",
   "pygments_lexer": "ipython3",
   "version": "3.11.3"
  }
 },
 "nbformat": 4,
 "nbformat_minor": 5
}
